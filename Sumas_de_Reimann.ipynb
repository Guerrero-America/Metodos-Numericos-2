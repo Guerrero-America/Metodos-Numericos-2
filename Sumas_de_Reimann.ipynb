{
  "nbformat": 4,
  "nbformat_minor": 0,
  "metadata": {
    "colab": {
      "provenance": [],
      "authorship_tag": "ABX9TyMCxJnM7XB1nQu/LKn2/ylk",
      "include_colab_link": true
    },
    "kernelspec": {
      "name": "python3",
      "display_name": "Python 3"
    },
    "language_info": {
      "name": "python"
    }
  },
  "cells": [
    {
      "cell_type": "markdown",
      "metadata": {
        "id": "view-in-github",
        "colab_type": "text"
      },
      "source": [
        "<a href=\"https://colab.research.google.com/github/Guerrero-America/Metodos-Numericos-2/blob/main/Sumas_de_Reimann.ipynb\" target=\"_parent\"><img src=\"https://colab.research.google.com/assets/colab-badge.svg\" alt=\"Open In Colab\"/></a>"
      ]
    },
    {
      "cell_type": "markdown",
      "source": [
        "**Sumas de Reimann**"
      ],
      "metadata": {
        "id": "P1rmKvUngleT"
      }
    },
    {
      "cell_type": "markdown",
      "source": [
        "Sumas de Riemann: superiores, inferiores y centradas"
      ],
      "metadata": {
        "id": "9d1IXpRglrn7"
      }
    },
    {
      "cell_type": "code",
      "execution_count": 1,
      "metadata": {
        "id": "WEtZj1fdf1vD"
      },
      "outputs": [],
      "source": [
        "from math import *"
      ]
    },
    {
      "cell_type": "code",
      "source": [
        "# intervalo\n",
        "intervaloa= input(\"Ingrese el inicio del intervalo deseado: \")\n",
        "intervalob= input(\"Ingrese el final del intervalo deseado: \")\n",
        "a= float(intervaloa)\n",
        "b= float(intervalob)\n",
        "\n",
        "# particiones\n",
        "n= input(\"Ingrese el numero de particiones: \")\n",
        "n= int(n)"
      ],
      "metadata": {
        "colab": {
          "base_uri": "https://localhost:8080/"
        },
        "id": "LW1IZ5yYDteC",
        "outputId": "f82d63e7-c453-42dc-b8b4-bd8be6a2c2e0"
      },
      "execution_count": 6,
      "outputs": [
        {
          "name": "stdout",
          "output_type": "stream",
          "text": [
            "Ingrese el inicio del intervalo deseado: 0\n",
            "Ingrese el final del intervalo deseado: 1\n",
            "Ingrese el numero de particiones: 4\n"
          ]
        }
      ]
    },
    {
      "cell_type": "code",
      "source": [
        "# funcion\n",
        "def f(y):\n",
        "  return y\n",
        "\n",
        "# valores iniciales\n",
        "# base de las particiones\n",
        "l=(b-a)/n\n",
        "print(\"El largo de cada particion es: \", l)\n",
        "\n",
        "#\n",
        "xl=a       # sumas por la izquierda/inferiores\n",
        "xr=a+l     # sumas por la derecha/superiores\n",
        "xm=(a+l)/2 # sumas centrales\n",
        "\n",
        "sumal=sumar=sumam=0"
      ],
      "metadata": {
        "colab": {
          "base_uri": "https://localhost:8080/"
        },
        "id": "WwSRoYx8FVCq",
        "outputId": "11d2a4a5-87d2-4bf2-e724-661da4908ac9"
      },
      "execution_count": 7,
      "outputs": [
        {
          "output_type": "stream",
          "name": "stdout",
          "text": [
            "El largo de cada particion es:  0.25\n"
          ]
        }
      ]
    },
    {
      "cell_type": "code",
      "source": [
        "# ciclo interativo para las sumas\n",
        "for i in range(n-1):\n",
        "  sumal+=f(xl)\n",
        "  sumam+=f(xm)\n",
        "  sumar+=f(xr)\n",
        "  xl+=l\n",
        "  xr+=l\n",
        "  xm+=l\n",
        "sumal*=l\n",
        "sumar*=l\n",
        "sumam*=l\n",
        "print(\"La suma por la izquierda es: \", sumal)\n",
        "print(\"La suma por la derecha es: \", sumar)\n",
        "print(\"La suma por el centro es: \", sumam)"
      ],
      "metadata": {
        "colab": {
          "base_uri": "https://localhost:8080/"
        },
        "id": "PuHek6dwI-AN",
        "outputId": "2c077e57-09c9-4f41-ce1d-8d5cc8196dcc"
      },
      "execution_count": 8,
      "outputs": [
        {
          "output_type": "stream",
          "name": "stdout",
          "text": [
            "La suma por la izquierda es:  0.1875\n",
            "La suma por la derecha es:  0.375\n",
            "La suma por el centro es:  0.28125\n"
          ]
        }
      ]
    }
  ]
}