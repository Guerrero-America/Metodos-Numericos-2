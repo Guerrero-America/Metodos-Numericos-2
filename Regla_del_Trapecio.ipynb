{
  "nbformat": 4,
  "nbformat_minor": 0,
  "metadata": {
    "colab": {
      "provenance": [],
      "authorship_tag": "ABX9TyOy4IgZgbJTULc7DA3ljZ7Q",
      "include_colab_link": true
    },
    "kernelspec": {
      "name": "python3",
      "display_name": "Python 3"
    },
    "language_info": {
      "name": "python"
    }
  },
  "cells": [
    {
      "cell_type": "markdown",
      "metadata": {
        "id": "view-in-github",
        "colab_type": "text"
      },
      "source": [
        "<a href=\"https://colab.research.google.com/github/Guerrero-America/Metodos-Numericos-2/blob/main/Regla_del_Trapecio.ipynb\" target=\"_parent\"><img src=\"https://colab.research.google.com/assets/colab-badge.svg\" alt=\"Open In Colab\"/></a>"
      ]
    },
    {
      "cell_type": "markdown",
      "source": [
        "##Regla del Trapecio:\n",
        "$T(f,P_n)= \\frac{\\ell}{2}\\cdot[f(a) + f(b)] + \\ell \\cdot\\sum_{k=1}^{n-1} f(x_k)$"
      ],
      "metadata": {
        "id": "dO80Ohg7JPEV"
      }
    },
    {
      "cell_type": "code",
      "execution_count": 18,
      "metadata": {
        "id": "qvOeLDLCGaZ4"
      },
      "outputs": [],
      "source": [
        "from math import *"
      ]
    },
    {
      "cell_type": "code",
      "source": [
        "# intervalo\n",
        "intervaloa= input(\"Ingrese el inicio del intervalo deseado: \")\n",
        "intervalob= input(\"Ingrese el final del intervalo deseado: \")\n",
        "a= float(intervaloa)\n",
        "b= float(intervalob)\n",
        "\n",
        "# particiones\n",
        "n= input(\"Ingrese el numero de particiones: \")\n",
        "n= int(n)"
      ],
      "metadata": {
        "colab": {
          "base_uri": "https://localhost:8080/"
        },
        "id": "mblsY1CCLxPt",
        "outputId": "53ff6905-52ff-45aa-f113-88047bc092ad"
      },
      "execution_count": 41,
      "outputs": [
        {
          "name": "stdout",
          "output_type": "stream",
          "text": [
            "Ingrese el inicio del intervalo deseado: 0\n",
            "Ingrese el final del intervalo deseado: 1\n",
            "Ingrese el numero de particiones: 129\n"
          ]
        }
      ]
    },
    {
      "cell_type": "code",
      "source": [
        "# funcion\n",
        "def f(y):\n",
        "  y= float(y)\n",
        "  if y==0:\n",
        "    f=1\n",
        "  else:\n",
        "    I=sin(y)\n",
        "    f=I/y\n",
        "  return f\n",
        "\n",
        "# valores iniciales\n",
        "# base de las particiones\n",
        "l=(b-a)/n\n",
        "print(\"El largo de cada particion es: \", l)\n",
        "\n",
        "#\n",
        "x=a+l\n",
        "suma=0.5*(f(a)+f(b))"
      ],
      "metadata": {
        "colab": {
          "base_uri": "https://localhost:8080/"
        },
        "id": "MaSD4XLYL7UN",
        "outputId": "b6f6dc86-9b9b-481b-c138-21ae219bbc5d"
      },
      "execution_count": 42,
      "outputs": [
        {
          "output_type": "stream",
          "name": "stdout",
          "text": [
            "El largo de cada particion es:  0.007751937984496124\n"
          ]
        }
      ]
    },
    {
      "cell_type": "code",
      "source": [
        "# ciclo iterativo de las sumas\n",
        "for i in range(n-2):\n",
        "  suma=suma+f(x)\n",
        "  x+=l\n",
        "suma*=l\n",
        "print(f'El área aproximada debajo de la curva de la función dada, utilizando la regla del trapecio, es: {suma}')"
      ],
      "metadata": {
        "colab": {
          "base_uri": "https://localhost:8080/"
        },
        "id": "unOl6CFWNAHN",
        "outputId": "c72912aa-b14c-46f8-8a33-9594c2ccf247"
      },
      "execution_count": 43,
      "outputs": [
        {
          "output_type": "stream",
          "name": "stdout",
          "text": [
            "El área aproximada debajo de la curva de la función dada, utilizando la regla del trapecio, es: 0.9395404891233754\n"
          ]
        }
      ]
    },
    {
      "cell_type": "markdown",
      "source": [
        "####Se implementará el despeje de $n$ de la fórmula del ERROR EN LA REGLA DEL TRAPECIO\n",
        "ERROR $=-\\frac{1}{12} \\cdot (b-a) \\cdot \\ell^{2} \\cdot f''(\\xi)$\n",
        "\n",
        "####Así:\n",
        "\n",
        "$n\\geq \\sqrt{\\frac{1}{12} \\frac{(b-a)^3}{tol} \\cdot |f''(x)|}$, donde $tol$ es la tolerancia indicada del error"
      ],
      "metadata": {
        "id": "Aqcab1PlQ3X9"
      }
    },
    {
      "cell_type": "code",
      "source": [
        "import sympy as sp\n",
        "# se calculará hasta la segunda derivada\n",
        "x = sp.Symbol('x')\n",
        "y = (sp.sin(x)/x)\n",
        "f1=y.diff(x)\n",
        "f2=y.diff(x,2)\n",
        "print(f'La primera derivada de la función es: {f1}, segunda derivada de la función es: {f2}')\n",
        "\n",
        "#asignacion de valores\n",
        "#tol= input(\"Ingrese la tolerancia deseada: \")\n",
        "#tol= float(tol)\n",
        "tol=0.000005 #1/2*10^-5\n",
        "f_bp=1 # se acota a 1 el valor absoluto de la segunda derivada al ser una funcion trigonométrica\n",
        "\n",
        "#sustitucion\n",
        "n=sqrt((b-a)**3/(12*tol*f_bp))\n",
        "n=round(n)\n",
        "print(f'El valor ideal de n para una mejor aproximación es: {n}')"
      ],
      "metadata": {
        "colab": {
          "base_uri": "https://localhost:8080/"
        },
        "id": "4xiVlC1bVGt3",
        "outputId": "34f906b1-8e50-418c-d660-7e88fda74152"
      },
      "execution_count": 46,
      "outputs": [
        {
          "output_type": "stream",
          "name": "stdout",
          "text": [
            "La primera derivada de la función es: cos(x)/x - sin(x)/x**2, segunda derivada de la función es: (-sin(x) - 2*cos(x)/x + 2*sin(x)/x**2)/x\n",
            "El valor ideal de n para una mejor aproximación es: 129\n"
          ]
        }
      ]
    }
  ]
}